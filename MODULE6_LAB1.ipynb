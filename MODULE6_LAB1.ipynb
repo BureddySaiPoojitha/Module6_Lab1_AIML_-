{
  "nbformat": 4,
  "nbformat_minor": 0,
  "metadata": {
    "colab": {
      "provenance": [],
      "authorship_tag": "ABX9TyObCTG9zMtrtsvyp8C3W8cp",
      "include_colab_link": true
    },
    "kernelspec": {
      "name": "python3",
      "display_name": "Python 3"
    },
    "language_info": {
      "name": "python"
    }
  },
  "cells": [
    {
      "cell_type": "markdown",
      "metadata": {
        "id": "view-in-github",
        "colab_type": "text"
      },
      "source": [
        "<a href=\"https://colab.research.google.com/github/BureddySaiPoojitha/Module6_Lab1_AIML_-/blob/main/MODULE6_LAB1.ipynb\" target=\"_parent\"><img src=\"https://colab.research.google.com/assets/colab-badge.svg\" alt=\"Open In Colab\"/></a>"
      ]
    },
    {
      "cell_type": "markdown",
      "source": [
        "**STUDENT TRAININIG PROGRAM ON AIML AT IIITH HYDERABAD**\n",
        "\n",
        "# **MODULE 6 LAB-1 :- NEURAL NETWORK-1**"
      ],
      "metadata": {
        "id": "mHrPTgx4J0O1"
      }
    },
    {
      "cell_type": "markdown",
      "source": [
        "# Implementing forward propagation and back propagation"
      ],
      "metadata": {
        "id": "eLTJnCh9KGGS"
      }
    },
    {
      "cell_type": "code",
      "source": [
        "import torch\n",
        "import torch.nn as nn"
      ],
      "metadata": {
        "id": "fgiI0hrhKM6M"
      },
      "execution_count": 1,
      "outputs": []
    },
    {
      "cell_type": "code",
      "source": [
        "from sklearn import datasets\n",
        "from sklearn import preprocessing\n",
        "iris = datasets.load_iris()\n",
        "X = torch.tensor(preprocessing.normalize(iris.data[:, :3]), dtype=torch.float)\n",
        "y = torch.tensor(iris.target.reshape(-2, 2), dtype=torch.float)"
      ],
      "metadata": {
        "id": "nNYVYBbKKR3V"
      },
      "execution_count": 2,
      "outputs": []
    },
    {
      "cell_type": "code",
      "source": [
        "# Set manual seed\n",
        "torch.manual_seed(3)"
      ],
      "metadata": {
        "colab": {
          "base_uri": "https://localhost:8080/"
        },
        "id": "-S9knaSlKXCN",
        "outputId": "4bcf3681-704d-46ab-bcbc-849e5033c968"
      },
      "execution_count": 3,
      "outputs": [
        {
          "output_type": "execute_result",
          "data": {
            "text/plain": [
              "<torch._C.Generator at 0x7f3e72cc69f0>"
            ]
          },
          "metadata": {},
          "execution_count": 3
        }
      ]
    },
    {
      "cell_type": "code",
      "source": [
        "print(X.size())\n",
        "print(y.size())"
      ],
      "metadata": {
        "colab": {
          "base_uri": "https://localhost:8080/"
        },
        "id": "3cttCoXOKZeE",
        "outputId": "d009ff69-2b7a-49d6-afe9-b30fed320685"
      },
      "execution_count": 4,
      "outputs": [
        {
          "output_type": "stream",
          "name": "stdout",
          "text": [
            "torch.Size([150, 3])\n",
            "torch.Size([75, 2])\n"
          ]
        }
      ]
    },
    {
      "cell_type": "code",
      "source": [
        "# Take 2 classes in order to get binary classification problem\n",
        "X = X[:y[y < 3].size()[0]]\n",
        "y = y[:y[y < 3].size()[0]]"
      ],
      "metadata": {
        "id": "qhUU2jDZKeAT"
      },
      "execution_count": 5,
      "outputs": []
    },
    {
      "cell_type": "code",
      "source": [
        "print(X.size())\n",
        "print(y.size())"
      ],
      "metadata": {
        "colab": {
          "base_uri": "https://localhost:8080/"
        },
        "id": "c70TtNZrKjd2",
        "outputId": "b7e4295c-5e53-4701-f8a2-8386c4e76c35"
      },
      "execution_count": 6,
      "outputs": [
        {
          "output_type": "stream",
          "name": "stdout",
          "text": [
            "torch.Size([150, 3])\n",
            "torch.Size([75, 2])\n"
          ]
        }
      ]
    },
    {
      "cell_type": "code",
      "source": [
        "print(torch.randn(5, 52).size())"
      ],
      "metadata": {
        "colab": {
          "base_uri": "https://localhost:8080/"
        },
        "id": "pUQO7Ij2Klin",
        "outputId": "79b5f0ba-231c-48da-fa5a-69a1bed539ed"
      },
      "execution_count": 7,
      "outputs": [
        {
          "output_type": "stream",
          "name": "stdout",
          "text": [
            "torch.Size([5, 52])\n"
          ]
        }
      ]
    },
    {
      "cell_type": "code",
      "source": [
        "class FNN(nn.Module):\n",
        "    def __init__(self, ):\n",
        "        super().__init__()\n",
        "        self.input_dim = 5\n",
        "        self.hidden_dim = 52\n",
        "        self.output_dim = 1\n",
        "        self.learning_rate = 0.003\n",
        "        self.w1 = torch.randn(self.input_dim, self.hidden_dim)\n",
        "        self.w2 = torch.randn(self.hidden_dim, self.output_dim)\n",
        "\n",
        "    def sigmoid(self, s):\n",
        "        return 1 / (1 + torch.exp(-s))\n",
        "\n",
        "    def sigmoid_first_order_derivative(self, s):\n",
        "        return s * (1 - s)\n",
        "\n",
        "    # Forward propagation\n",
        "    def forward(self, X):\n",
        "        self.y1 = torch.matmul(X, self.w1)\n",
        "        self.y2 = self.sigmoid(self.y1)\n",
        "        self.y3 = torch.matmul(self.y2, self.w2)\n",
        "        y4 = self.sigmoid(self.y3)\n",
        "        return y4\n",
        "\n",
        "    # Backward propagation\n",
        "    def backward(self, X, l, y4):\n",
        "        self.dC_dy4 = y4 - l\n",
        "\n",
        "        '''\n",
        "        Gradients for w2: partial derivative of cost w.r.t. w2\n",
        "        dC/dw2\n",
        "        '''\n",
        "        self.dy4_dy3 = self.sigmoid_first_order_derivative(y4)\n",
        "        self.dy3_dw2 = self.y2\n",
        "\n",
        "        # Y4 delta: dC_dy4 dy4_dy3\n",
        "        self.y4_delta = self.dC_dy4 * self.dy4_dy3\n",
        "\n",
        "        self.dC_dw2 = torch.matmul(torch.t(self.dy3_dw2), self.y4_delta)\n",
        "\n",
        "        '''\n",
        "        Gradients for w1: partial derivative of cost w.r.t w1\n",
        "        dC/dw1\n",
        "        '''\n",
        "        self.dy3_dy2 = self.w2\n",
        "        self.dy2_dy1 = self.sigmoid_first_order_derivative(self.y2)\n",
        "        self.y2_delta = torch.matmul(self.y4_delta, torch.t(self.dy3_dy2)) * self.dy2_dy1\n",
        "        self.dC_dw1 = torch.matmul(torch.t(X), self.y2_delta)\n",
        "        self.w1 -= self.learning_rate * self.dC_dw1\n",
        "        self.w2 -= self.learning_rate * self.dC_dw2\n",
        "    def train(self, X, l):\n",
        "        # Forward propagation\n",
        "        y4 = self.forward(X)\n",
        "        # Backward propagation and gradient descent\n",
        "        self.backward(X, l, y4)"
      ],
      "metadata": {
        "id": "k-PjUkUBKosE"
      },
      "execution_count": 8,
      "outputs": []
    },
    {
      "cell_type": "code",
      "source": [
        "model = FNN()\n",
        "loss_lst = []\n",
        "num_epochs = 115\n",
        "\n",
        "for epoch in range(num_epochs):\n",
        "    y_hat = model(X)\n",
        "\n",
        "    # Binary Cross Entropy Loss for binary classification\n",
        "    cross_entropy_loss = -(y * torch.log(y_hat) + (1 - y) * torch.log(1 - y_hat))\n",
        "\n",
        "    mean_cross_entropy_loss = torch.mean(cross_entropy_loss).detach().item()\n",
        "    if epoch % 20 == 0:\n",
        "        print('Epoch {} | Loss: {}'.format(epoch, mean_cross_entropy_loss))\n",
        "    loss_lst.append(mean_cross_entropy_loss)\n",
        "\n",
        "    model.train(X, y)\n"
      ],
      "metadata": {
        "colab": {
          "base_uri": "https://localhost:8080/"
        },
        "id": "IsG5O33zLl5t",
        "outputId": "eeb944b3-8953-480b-dac7-5e40dd2aeb21"
      },
      "execution_count": 16,
      "outputs": [
        {
          "output_type": "stream",
          "name": "stdout",
          "text": [
            "Epoch 0 | Loss: 2.8681459426879883\n",
            "Epoch 20 | Loss: 2.792875051498413\n",
            "Epoch 40 | Loss: 2.704561710357666\n",
            "Epoch 60 | Loss: 2.5977959632873535\n",
            "Epoch 80 | Loss: 2.462944984436035\n",
            "Epoch 100 | Loss: 2.2802693843841553\n"
          ]
        }
      ]
    },
    {
      "cell_type": "code",
      "source": [
        "# Plotting loss\n",
        "import pandas as pd\n",
        "%matplotlib inline\n",
        "pd.Series(loss_lst).plot()"
      ],
      "metadata": {
        "colab": {
          "base_uri": "https://localhost:8080/",
          "height": 447
        },
        "id": "Bz60tU8iLzQx",
        "outputId": "915dad38-b345-48a7-c862-12dc45ef5275"
      },
      "execution_count": 14,
      "outputs": [
        {
          "output_type": "execute_result",
          "data": {
            "text/plain": [
              "<Axes: >"
            ]
          },
          "metadata": {},
          "execution_count": 14
        },
        {
          "output_type": "display_data",
          "data": {
            "text/plain": [
              "<Figure size 640x480 with 1 Axes>"
            ],
            "image/png": "[encoded data removed]"
          },
          "metadata": {}
        }
      ]
    }
  ]
}